{
 "cells": [
  {
   "cell_type": "code",
   "execution_count": 1,
   "metadata": {
    "ExecuteTime": {
     "end_time": "2021-05-19T15:10:04.799438Z",
     "start_time": "2021-05-19T15:10:01.130108Z"
    }
   },
   "outputs": [],
   "source": [
    "import pandas as pd\n",
    "import numpy as np\n",
    "\n",
    "from sklearn.model_selection import train_test_split\n",
    "\n",
    "import torch\n",
    "import torch.nn as nn\n",
    "from torch.nn.utils.rnn import pad_sequence\n",
    "from torch.utils.data import TensorDataset, DataLoader"
   ]
  },
  {
   "cell_type": "code",
   "execution_count": 2,
   "metadata": {
    "ExecuteTime": {
     "end_time": "2021-05-19T15:10:04.813272Z",
     "start_time": "2021-05-19T15:10:04.802354Z"
    }
   },
   "outputs": [
    {
     "data": {
      "text/plain": [
       "'cuda:0'"
      ]
     },
     "execution_count": 2,
     "metadata": {},
     "output_type": "execute_result"
    }
   ],
   "source": [
    "device = 'cuda:0' if torch.cuda.is_available else 'cpu'\n",
    "device"
   ]
  },
  {
   "cell_type": "code",
   "execution_count": 3,
   "metadata": {},
   "outputs": [
    {
     "name": "stdout",
     "output_type": "stream",
     "text": [
      "1dcnn_csic2010.ipynb README.md\r\n",
      "LICENSE              csic_database.csv\r\n"
     ]
    }
   ],
   "source": [
    "!ls"
   ]
  },
  {
   "cell_type": "markdown",
   "metadata": {},
   "source": [
    "# Data Load"
   ]
  },
  {
   "cell_type": "code",
   "execution_count": 4,
   "metadata": {
    "ExecuteTime": {
     "end_time": "2021-05-19T15:10:05.148642Z",
     "start_time": "2021-05-19T15:10:04.815618Z"
    }
   },
   "outputs": [
    {
     "name": "stdout",
     "output_type": "stream",
     "text": [
      "Index(['Unnamed: 0', 'Method', 'User-Agent', 'Pragma', 'Cache-Control',\n",
      "       'Accept', 'Accept-encoding', 'Accept-charset', 'language', 'host',\n",
      "       'cookie', 'content-type', 'connection', 'lenght', 'content',\n",
      "       'classification', 'URL'],\n",
      "      dtype='object')\n"
     ]
    },
    {
     "data": {
      "text/html": [
       "<div>\n",
       "<style scoped>\n",
       "    .dataframe tbody tr th:only-of-type {\n",
       "        vertical-align: middle;\n",
       "    }\n",
       "\n",
       "    .dataframe tbody tr th {\n",
       "        vertical-align: top;\n",
       "    }\n",
       "\n",
       "    .dataframe thead th {\n",
       "        text-align: right;\n",
       "    }\n",
       "</style>\n",
       "<table border=\"1\" class=\"dataframe\">\n",
       "  <thead>\n",
       "    <tr style=\"text-align: right;\">\n",
       "      <th></th>\n",
       "      <th>Unnamed: 0</th>\n",
       "      <th>Method</th>\n",
       "      <th>User-Agent</th>\n",
       "      <th>Pragma</th>\n",
       "      <th>Cache-Control</th>\n",
       "      <th>Accept</th>\n",
       "      <th>Accept-encoding</th>\n",
       "      <th>Accept-charset</th>\n",
       "      <th>language</th>\n",
       "      <th>host</th>\n",
       "      <th>cookie</th>\n",
       "      <th>content-type</th>\n",
       "      <th>connection</th>\n",
       "      <th>lenght</th>\n",
       "      <th>content</th>\n",
       "      <th>classification</th>\n",
       "      <th>URL</th>\n",
       "    </tr>\n",
       "  </thead>\n",
       "  <tbody>\n",
       "    <tr>\n",
       "      <th>0</th>\n",
       "      <td>Normal</td>\n",
       "      <td>GET</td>\n",
       "      <td>Mozilla/5.0 (compatible; Konqueror/3.5; Linux)...</td>\n",
       "      <td>no-cache</td>\n",
       "      <td>no-cache</td>\n",
       "      <td>text/xml,application/xml,application/xhtml+xml...</td>\n",
       "      <td>x-gzip, x-deflate, gzip, deflate</td>\n",
       "      <td>utf-8, utf-8;q=0.5, *;q=0.5</td>\n",
       "      <td>en</td>\n",
       "      <td>localhost:8080</td>\n",
       "      <td>JSESSIONID=1F767F17239C9B670A39E9B10C3825F4</td>\n",
       "      <td>NaN</td>\n",
       "      <td>close</td>\n",
       "      <td>NaN</td>\n",
       "      <td>NaN</td>\n",
       "      <td>0</td>\n",
       "      <td>http://localhost:8080/tienda1/index.jsp HTTP/1.1</td>\n",
       "    </tr>\n",
       "    <tr>\n",
       "      <th>1</th>\n",
       "      <td>Normal</td>\n",
       "      <td>GET</td>\n",
       "      <td>Mozilla/5.0 (compatible; Konqueror/3.5; Linux)...</td>\n",
       "      <td>no-cache</td>\n",
       "      <td>no-cache</td>\n",
       "      <td>text/xml,application/xml,application/xhtml+xml...</td>\n",
       "      <td>x-gzip, x-deflate, gzip, deflate</td>\n",
       "      <td>utf-8, utf-8;q=0.5, *;q=0.5</td>\n",
       "      <td>en</td>\n",
       "      <td>localhost:8080</td>\n",
       "      <td>JSESSIONID=81761ACA043B0E6014CA42A4BCD06AB5</td>\n",
       "      <td>NaN</td>\n",
       "      <td>close</td>\n",
       "      <td>NaN</td>\n",
       "      <td>NaN</td>\n",
       "      <td>0</td>\n",
       "      <td>http://localhost:8080/tienda1/publico/anadir.j...</td>\n",
       "    </tr>\n",
       "    <tr>\n",
       "      <th>2</th>\n",
       "      <td>Normal</td>\n",
       "      <td>POST</td>\n",
       "      <td>Mozilla/5.0 (compatible; Konqueror/3.5; Linux)...</td>\n",
       "      <td>no-cache</td>\n",
       "      <td>no-cache</td>\n",
       "      <td>text/xml,application/xml,application/xhtml+xml...</td>\n",
       "      <td>x-gzip, x-deflate, gzip, deflate</td>\n",
       "      <td>utf-8, utf-8;q=0.5, *;q=0.5</td>\n",
       "      <td>en</td>\n",
       "      <td>localhost:8080</td>\n",
       "      <td>JSESSIONID=933185092E0B668B90676E0A2B0767AF</td>\n",
       "      <td>application/x-www-form-urlencoded</td>\n",
       "      <td>Connection: close</td>\n",
       "      <td>Content-Length: 68</td>\n",
       "      <td>id=3&amp;nombre=Vino+Rioja&amp;precio=100&amp;cantidad=55&amp;...</td>\n",
       "      <td>0</td>\n",
       "      <td>http://localhost:8080/tienda1/publico/anadir.j...</td>\n",
       "    </tr>\n",
       "    <tr>\n",
       "      <th>3</th>\n",
       "      <td>Normal</td>\n",
       "      <td>GET</td>\n",
       "      <td>Mozilla/5.0 (compatible; Konqueror/3.5; Linux)...</td>\n",
       "      <td>no-cache</td>\n",
       "      <td>no-cache</td>\n",
       "      <td>text/xml,application/xml,application/xhtml+xml...</td>\n",
       "      <td>x-gzip, x-deflate, gzip, deflate</td>\n",
       "      <td>utf-8, utf-8;q=0.5, *;q=0.5</td>\n",
       "      <td>en</td>\n",
       "      <td>localhost:8080</td>\n",
       "      <td>JSESSIONID=8FA18BA82C5336D03D3A8AFA3E68CBB0</td>\n",
       "      <td>NaN</td>\n",
       "      <td>close</td>\n",
       "      <td>NaN</td>\n",
       "      <td>NaN</td>\n",
       "      <td>0</td>\n",
       "      <td>http://localhost:8080/tienda1/publico/autentic...</td>\n",
       "    </tr>\n",
       "    <tr>\n",
       "      <th>4</th>\n",
       "      <td>Normal</td>\n",
       "      <td>POST</td>\n",
       "      <td>Mozilla/5.0 (compatible; Konqueror/3.5; Linux)...</td>\n",
       "      <td>no-cache</td>\n",
       "      <td>no-cache</td>\n",
       "      <td>text/xml,application/xml,application/xhtml+xml...</td>\n",
       "      <td>x-gzip, x-deflate, gzip, deflate</td>\n",
       "      <td>utf-8, utf-8;q=0.5, *;q=0.5</td>\n",
       "      <td>en</td>\n",
       "      <td>localhost:8080</td>\n",
       "      <td>JSESSIONID=7104E6C68A6BCF1423DAE990CE49FEE2</td>\n",
       "      <td>application/x-www-form-urlencoded</td>\n",
       "      <td>Connection: close</td>\n",
       "      <td>Content-Length: 63</td>\n",
       "      <td>modo=entrar&amp;login=choong&amp;pwd=d1se3ci%F3n&amp;remem...</td>\n",
       "      <td>0</td>\n",
       "      <td>http://localhost:8080/tienda1/publico/autentic...</td>\n",
       "    </tr>\n",
       "  </tbody>\n",
       "</table>\n",
       "</div>"
      ],
      "text/plain": [
       "  Unnamed: 0 Method                                         User-Agent  \\\n",
       "0     Normal    GET  Mozilla/5.0 (compatible; Konqueror/3.5; Linux)...   \n",
       "1     Normal    GET  Mozilla/5.0 (compatible; Konqueror/3.5; Linux)...   \n",
       "2     Normal   POST  Mozilla/5.0 (compatible; Konqueror/3.5; Linux)...   \n",
       "3     Normal    GET  Mozilla/5.0 (compatible; Konqueror/3.5; Linux)...   \n",
       "4     Normal   POST  Mozilla/5.0 (compatible; Konqueror/3.5; Linux)...   \n",
       "\n",
       "     Pragma Cache-Control                                             Accept  \\\n",
       "0  no-cache      no-cache  text/xml,application/xml,application/xhtml+xml...   \n",
       "1  no-cache      no-cache  text/xml,application/xml,application/xhtml+xml...   \n",
       "2  no-cache      no-cache  text/xml,application/xml,application/xhtml+xml...   \n",
       "3  no-cache      no-cache  text/xml,application/xml,application/xhtml+xml...   \n",
       "4  no-cache      no-cache  text/xml,application/xml,application/xhtml+xml...   \n",
       "\n",
       "                    Accept-encoding               Accept-charset language  \\\n",
       "0  x-gzip, x-deflate, gzip, deflate  utf-8, utf-8;q=0.5, *;q=0.5       en   \n",
       "1  x-gzip, x-deflate, gzip, deflate  utf-8, utf-8;q=0.5, *;q=0.5       en   \n",
       "2  x-gzip, x-deflate, gzip, deflate  utf-8, utf-8;q=0.5, *;q=0.5       en   \n",
       "3  x-gzip, x-deflate, gzip, deflate  utf-8, utf-8;q=0.5, *;q=0.5       en   \n",
       "4  x-gzip, x-deflate, gzip, deflate  utf-8, utf-8;q=0.5, *;q=0.5       en   \n",
       "\n",
       "             host                                       cookie  \\\n",
       "0  localhost:8080  JSESSIONID=1F767F17239C9B670A39E9B10C3825F4   \n",
       "1  localhost:8080  JSESSIONID=81761ACA043B0E6014CA42A4BCD06AB5   \n",
       "2  localhost:8080  JSESSIONID=933185092E0B668B90676E0A2B0767AF   \n",
       "3  localhost:8080  JSESSIONID=8FA18BA82C5336D03D3A8AFA3E68CBB0   \n",
       "4  localhost:8080  JSESSIONID=7104E6C68A6BCF1423DAE990CE49FEE2   \n",
       "\n",
       "                        content-type         connection              lenght  \\\n",
       "0                                NaN              close                 NaN   \n",
       "1                                NaN              close                 NaN   \n",
       "2  application/x-www-form-urlencoded  Connection: close  Content-Length: 68   \n",
       "3                                NaN              close                 NaN   \n",
       "4  application/x-www-form-urlencoded  Connection: close  Content-Length: 63   \n",
       "\n",
       "                                             content  classification  \\\n",
       "0                                                NaN               0   \n",
       "1                                                NaN               0   \n",
       "2  id=3&nombre=Vino+Rioja&precio=100&cantidad=55&...               0   \n",
       "3                                                NaN               0   \n",
       "4  modo=entrar&login=choong&pwd=d1se3ci%F3n&remem...               0   \n",
       "\n",
       "                                                 URL  \n",
       "0   http://localhost:8080/tienda1/index.jsp HTTP/1.1  \n",
       "1  http://localhost:8080/tienda1/publico/anadir.j...  \n",
       "2  http://localhost:8080/tienda1/publico/anadir.j...  \n",
       "3  http://localhost:8080/tienda1/publico/autentic...  \n",
       "4  http://localhost:8080/tienda1/publico/autentic...  "
      ]
     },
     "execution_count": 4,
     "metadata": {},
     "output_type": "execute_result"
    }
   ],
   "source": [
    "data = pd.read_csv('csic_database.csv')\n",
    "print(data.columns)\n",
    "data.head(5)"
   ]
  },
  {
   "cell_type": "code",
   "execution_count": 5,
   "metadata": {},
   "outputs": [
    {
     "data": {
      "text/html": [
       "<div>\n",
       "<style scoped>\n",
       "    .dataframe tbody tr th:only-of-type {\n",
       "        vertical-align: middle;\n",
       "    }\n",
       "\n",
       "    .dataframe tbody tr th {\n",
       "        vertical-align: top;\n",
       "    }\n",
       "\n",
       "    .dataframe thead th {\n",
       "        text-align: right;\n",
       "    }\n",
       "</style>\n",
       "<table border=\"1\" class=\"dataframe\">\n",
       "  <thead>\n",
       "    <tr style=\"text-align: right;\">\n",
       "      <th></th>\n",
       "      <th>Unnamed: 0</th>\n",
       "      <th>Method</th>\n",
       "      <th>User-Agent</th>\n",
       "      <th>Pragma</th>\n",
       "      <th>Cache-Control</th>\n",
       "      <th>Accept</th>\n",
       "      <th>Accept-encoding</th>\n",
       "      <th>Accept-charset</th>\n",
       "      <th>language</th>\n",
       "      <th>host</th>\n",
       "      <th>cookie</th>\n",
       "      <th>content-type</th>\n",
       "      <th>connection</th>\n",
       "      <th>lenght</th>\n",
       "      <th>content</th>\n",
       "      <th>classification</th>\n",
       "      <th>URL</th>\n",
       "    </tr>\n",
       "  </thead>\n",
       "  <tbody>\n",
       "    <tr>\n",
       "      <th>count</th>\n",
       "      <td>61065</td>\n",
       "      <td>61065</td>\n",
       "      <td>61065</td>\n",
       "      <td>61065</td>\n",
       "      <td>61065</td>\n",
       "      <td>60668</td>\n",
       "      <td>61065</td>\n",
       "      <td>61065</td>\n",
       "      <td>61065</td>\n",
       "      <td>61065</td>\n",
       "      <td>61065</td>\n",
       "      <td>17977</td>\n",
       "      <td>61065</td>\n",
       "      <td>17977</td>\n",
       "      <td>17977</td>\n",
       "      <td>61065.000000</td>\n",
       "      <td>61065</td>\n",
       "    </tr>\n",
       "    <tr>\n",
       "      <th>unique</th>\n",
       "      <td>2</td>\n",
       "      <td>3</td>\n",
       "      <td>1</td>\n",
       "      <td>1</td>\n",
       "      <td>1</td>\n",
       "      <td>1</td>\n",
       "      <td>1</td>\n",
       "      <td>1</td>\n",
       "      <td>1</td>\n",
       "      <td>2</td>\n",
       "      <td>61065</td>\n",
       "      <td>1</td>\n",
       "      <td>2</td>\n",
       "      <td>382</td>\n",
       "      <td>12091</td>\n",
       "      <td>NaN</td>\n",
       "      <td>13498</td>\n",
       "    </tr>\n",
       "    <tr>\n",
       "      <th>top</th>\n",
       "      <td>Normal</td>\n",
       "      <td>GET</td>\n",
       "      <td>Mozilla/5.0 (compatible; Konqueror/3.5; Linux)...</td>\n",
       "      <td>no-cache</td>\n",
       "      <td>no-cache</td>\n",
       "      <td>text/xml,application/xml,application/xhtml+xml...</td>\n",
       "      <td>x-gzip, x-deflate, gzip, deflate</td>\n",
       "      <td>utf-8, utf-8;q=0.5, *;q=0.5</td>\n",
       "      <td>en</td>\n",
       "      <td>localhost:8080</td>\n",
       "      <td>JSESSIONID=92418148BF9CBA27D0B66A3DA85E9F74</td>\n",
       "      <td>application/x-www-form-urlencoded</td>\n",
       "      <td>close</td>\n",
       "      <td>Content-Length: 4</td>\n",
       "      <td>B2=Vaciar+carrito</td>\n",
       "      <td>NaN</td>\n",
       "      <td>http://localhost:8080/tienda1/publico/anadir.j...</td>\n",
       "    </tr>\n",
       "    <tr>\n",
       "      <th>freq</th>\n",
       "      <td>36000</td>\n",
       "      <td>43088</td>\n",
       "      <td>61065</td>\n",
       "      <td>61065</td>\n",
       "      <td>61065</td>\n",
       "      <td>60668</td>\n",
       "      <td>61065</td>\n",
       "      <td>61065</td>\n",
       "      <td>61065</td>\n",
       "      <td>60668</td>\n",
       "      <td>1</td>\n",
       "      <td>17977</td>\n",
       "      <td>43088</td>\n",
       "      <td>1057</td>\n",
       "      <td>1046</td>\n",
       "      <td>NaN</td>\n",
       "      <td>2441</td>\n",
       "    </tr>\n",
       "    <tr>\n",
       "      <th>mean</th>\n",
       "      <td>NaN</td>\n",
       "      <td>NaN</td>\n",
       "      <td>NaN</td>\n",
       "      <td>NaN</td>\n",
       "      <td>NaN</td>\n",
       "      <td>NaN</td>\n",
       "      <td>NaN</td>\n",
       "      <td>NaN</td>\n",
       "      <td>NaN</td>\n",
       "      <td>NaN</td>\n",
       "      <td>NaN</td>\n",
       "      <td>NaN</td>\n",
       "      <td>NaN</td>\n",
       "      <td>NaN</td>\n",
       "      <td>NaN</td>\n",
       "      <td>0.410464</td>\n",
       "      <td>NaN</td>\n",
       "    </tr>\n",
       "    <tr>\n",
       "      <th>std</th>\n",
       "      <td>NaN</td>\n",
       "      <td>NaN</td>\n",
       "      <td>NaN</td>\n",
       "      <td>NaN</td>\n",
       "      <td>NaN</td>\n",
       "      <td>NaN</td>\n",
       "      <td>NaN</td>\n",
       "      <td>NaN</td>\n",
       "      <td>NaN</td>\n",
       "      <td>NaN</td>\n",
       "      <td>NaN</td>\n",
       "      <td>NaN</td>\n",
       "      <td>NaN</td>\n",
       "      <td>NaN</td>\n",
       "      <td>NaN</td>\n",
       "      <td>0.491922</td>\n",
       "      <td>NaN</td>\n",
       "    </tr>\n",
       "    <tr>\n",
       "      <th>min</th>\n",
       "      <td>NaN</td>\n",
       "      <td>NaN</td>\n",
       "      <td>NaN</td>\n",
       "      <td>NaN</td>\n",
       "      <td>NaN</td>\n",
       "      <td>NaN</td>\n",
       "      <td>NaN</td>\n",
       "      <td>NaN</td>\n",
       "      <td>NaN</td>\n",
       "      <td>NaN</td>\n",
       "      <td>NaN</td>\n",
       "      <td>NaN</td>\n",
       "      <td>NaN</td>\n",
       "      <td>NaN</td>\n",
       "      <td>NaN</td>\n",
       "      <td>0.000000</td>\n",
       "      <td>NaN</td>\n",
       "    </tr>\n",
       "    <tr>\n",
       "      <th>25%</th>\n",
       "      <td>NaN</td>\n",
       "      <td>NaN</td>\n",
       "      <td>NaN</td>\n",
       "      <td>NaN</td>\n",
       "      <td>NaN</td>\n",
       "      <td>NaN</td>\n",
       "      <td>NaN</td>\n",
       "      <td>NaN</td>\n",
       "      <td>NaN</td>\n",
       "      <td>NaN</td>\n",
       "      <td>NaN</td>\n",
       "      <td>NaN</td>\n",
       "      <td>NaN</td>\n",
       "      <td>NaN</td>\n",
       "      <td>NaN</td>\n",
       "      <td>0.000000</td>\n",
       "      <td>NaN</td>\n",
       "    </tr>\n",
       "    <tr>\n",
       "      <th>50%</th>\n",
       "      <td>NaN</td>\n",
       "      <td>NaN</td>\n",
       "      <td>NaN</td>\n",
       "      <td>NaN</td>\n",
       "      <td>NaN</td>\n",
       "      <td>NaN</td>\n",
       "      <td>NaN</td>\n",
       "      <td>NaN</td>\n",
       "      <td>NaN</td>\n",
       "      <td>NaN</td>\n",
       "      <td>NaN</td>\n",
       "      <td>NaN</td>\n",
       "      <td>NaN</td>\n",
       "      <td>NaN</td>\n",
       "      <td>NaN</td>\n",
       "      <td>0.000000</td>\n",
       "      <td>NaN</td>\n",
       "    </tr>\n",
       "    <tr>\n",
       "      <th>75%</th>\n",
       "      <td>NaN</td>\n",
       "      <td>NaN</td>\n",
       "      <td>NaN</td>\n",
       "      <td>NaN</td>\n",
       "      <td>NaN</td>\n",
       "      <td>NaN</td>\n",
       "      <td>NaN</td>\n",
       "      <td>NaN</td>\n",
       "      <td>NaN</td>\n",
       "      <td>NaN</td>\n",
       "      <td>NaN</td>\n",
       "      <td>NaN</td>\n",
       "      <td>NaN</td>\n",
       "      <td>NaN</td>\n",
       "      <td>NaN</td>\n",
       "      <td>1.000000</td>\n",
       "      <td>NaN</td>\n",
       "    </tr>\n",
       "    <tr>\n",
       "      <th>max</th>\n",
       "      <td>NaN</td>\n",
       "      <td>NaN</td>\n",
       "      <td>NaN</td>\n",
       "      <td>NaN</td>\n",
       "      <td>NaN</td>\n",
       "      <td>NaN</td>\n",
       "      <td>NaN</td>\n",
       "      <td>NaN</td>\n",
       "      <td>NaN</td>\n",
       "      <td>NaN</td>\n",
       "      <td>NaN</td>\n",
       "      <td>NaN</td>\n",
       "      <td>NaN</td>\n",
       "      <td>NaN</td>\n",
       "      <td>NaN</td>\n",
       "      <td>1.000000</td>\n",
       "      <td>NaN</td>\n",
       "    </tr>\n",
       "  </tbody>\n",
       "</table>\n",
       "</div>"
      ],
      "text/plain": [
       "       Unnamed: 0 Method                                         User-Agent  \\\n",
       "count       61065  61065                                              61065   \n",
       "unique          2      3                                                  1   \n",
       "top        Normal    GET  Mozilla/5.0 (compatible; Konqueror/3.5; Linux)...   \n",
       "freq        36000  43088                                              61065   \n",
       "mean          NaN    NaN                                                NaN   \n",
       "std           NaN    NaN                                                NaN   \n",
       "min           NaN    NaN                                                NaN   \n",
       "25%           NaN    NaN                                                NaN   \n",
       "50%           NaN    NaN                                                NaN   \n",
       "75%           NaN    NaN                                                NaN   \n",
       "max           NaN    NaN                                                NaN   \n",
       "\n",
       "          Pragma Cache-Control  \\\n",
       "count      61065         61065   \n",
       "unique         1             1   \n",
       "top     no-cache      no-cache   \n",
       "freq       61065         61065   \n",
       "mean         NaN           NaN   \n",
       "std          NaN           NaN   \n",
       "min          NaN           NaN   \n",
       "25%          NaN           NaN   \n",
       "50%          NaN           NaN   \n",
       "75%          NaN           NaN   \n",
       "max          NaN           NaN   \n",
       "\n",
       "                                                   Accept  \\\n",
       "count                                               60668   \n",
       "unique                                                  1   \n",
       "top     text/xml,application/xml,application/xhtml+xml...   \n",
       "freq                                                60668   \n",
       "mean                                                  NaN   \n",
       "std                                                   NaN   \n",
       "min                                                   NaN   \n",
       "25%                                                   NaN   \n",
       "50%                                                   NaN   \n",
       "75%                                                   NaN   \n",
       "max                                                   NaN   \n",
       "\n",
       "                         Accept-encoding               Accept-charset  \\\n",
       "count                              61065                        61065   \n",
       "unique                                 1                            1   \n",
       "top     x-gzip, x-deflate, gzip, deflate  utf-8, utf-8;q=0.5, *;q=0.5   \n",
       "freq                               61065                        61065   \n",
       "mean                                 NaN                          NaN   \n",
       "std                                  NaN                          NaN   \n",
       "min                                  NaN                          NaN   \n",
       "25%                                  NaN                          NaN   \n",
       "50%                                  NaN                          NaN   \n",
       "75%                                  NaN                          NaN   \n",
       "max                                  NaN                          NaN   \n",
       "\n",
       "       language            host                                       cookie  \\\n",
       "count     61065           61065                                        61065   \n",
       "unique        1               2                                        61065   \n",
       "top          en  localhost:8080  JSESSIONID=92418148BF9CBA27D0B66A3DA85E9F74   \n",
       "freq      61065           60668                                            1   \n",
       "mean        NaN             NaN                                          NaN   \n",
       "std         NaN             NaN                                          NaN   \n",
       "min         NaN             NaN                                          NaN   \n",
       "25%         NaN             NaN                                          NaN   \n",
       "50%         NaN             NaN                                          NaN   \n",
       "75%         NaN             NaN                                          NaN   \n",
       "max         NaN             NaN                                          NaN   \n",
       "\n",
       "                             content-type connection             lenght  \\\n",
       "count                               17977      61065              17977   \n",
       "unique                                  1          2                382   \n",
       "top     application/x-www-form-urlencoded      close  Content-Length: 4   \n",
       "freq                                17977      43088               1057   \n",
       "mean                                  NaN        NaN                NaN   \n",
       "std                                   NaN        NaN                NaN   \n",
       "min                                   NaN        NaN                NaN   \n",
       "25%                                   NaN        NaN                NaN   \n",
       "50%                                   NaN        NaN                NaN   \n",
       "75%                                   NaN        NaN                NaN   \n",
       "max                                   NaN        NaN                NaN   \n",
       "\n",
       "                  content  classification  \\\n",
       "count               17977    61065.000000   \n",
       "unique              12091             NaN   \n",
       "top     B2=Vaciar+carrito             NaN   \n",
       "freq                 1046             NaN   \n",
       "mean                  NaN        0.410464   \n",
       "std                   NaN        0.491922   \n",
       "min                   NaN        0.000000   \n",
       "25%                   NaN        0.000000   \n",
       "50%                   NaN        0.000000   \n",
       "75%                   NaN        1.000000   \n",
       "max                   NaN        1.000000   \n",
       "\n",
       "                                                      URL  \n",
       "count                                               61065  \n",
       "unique                                              13498  \n",
       "top     http://localhost:8080/tienda1/publico/anadir.j...  \n",
       "freq                                                 2441  \n",
       "mean                                                  NaN  \n",
       "std                                                   NaN  \n",
       "min                                                   NaN  \n",
       "25%                                                   NaN  \n",
       "50%                                                   NaN  \n",
       "75%                                                   NaN  \n",
       "max                                                   NaN  "
      ]
     },
     "execution_count": 5,
     "metadata": {},
     "output_type": "execute_result"
    }
   ],
   "source": [
    "include =['object', 'float', 'int']\n",
    "data.describe(include=include)"
   ]
  },
  {
   "cell_type": "code",
   "execution_count": 6,
   "metadata": {},
   "outputs": [
    {
     "name": "stdout",
     "output_type": "stream",
     "text": [
      "noraml and abnormal ratio:\n",
      "Normal       36000\n",
      "Anomalous    25065\n",
      "Name: Unnamed: 0, dtype: int64\n"
     ]
    }
   ],
   "source": [
    "print('noraml and abnormal ratio:')\n",
    "print(data['Unnamed: 0'].value_counts())"
   ]
  },
  {
   "cell_type": "code",
   "execution_count": null,
   "metadata": {},
   "outputs": [],
   "source": []
  },
  {
   "cell_type": "markdown",
   "metadata": {},
   "source": [
    "## Data Selection\n",
    "\n",
    "- choose X and y data"
   ]
  },
  {
   "cell_type": "code",
   "execution_count": 7,
   "metadata": {
    "ExecuteTime": {
     "end_time": "2021-05-19T15:10:05.170531Z",
     "start_time": "2021-05-19T15:10:05.150693Z"
    }
   },
   "outputs": [],
   "source": [
    "X = data[['Method','User-Agent','Pragma','Cache-Control', 'Accept','Accept-encoding','language', 'host', 'cookie', 'content-type', 'connection','lenght', 'content','URL']]\n",
    "y = data['classification']"
   ]
  },
  {
   "cell_type": "code",
   "execution_count": 8,
   "metadata": {
    "ExecuteTime": {
     "end_time": "2021-05-19T15:10:05.192550Z",
     "start_time": "2021-05-19T15:10:05.172539Z"
    }
   },
   "outputs": [
    {
     "name": "stdout",
     "output_type": "stream",
     "text": [
      "Index(['Method', 'User-Agent', 'Pragma', 'Cache-Control', 'Accept',\n",
      "       'Accept-encoding', 'language', 'host', 'cookie', 'content-type',\n",
      "       'connection', 'lenght', 'content', 'URL'],\n",
      "      dtype='object')\n"
     ]
    },
    {
     "data": {
      "text/html": [
       "<div>\n",
       "<style scoped>\n",
       "    .dataframe tbody tr th:only-of-type {\n",
       "        vertical-align: middle;\n",
       "    }\n",
       "\n",
       "    .dataframe tbody tr th {\n",
       "        vertical-align: top;\n",
       "    }\n",
       "\n",
       "    .dataframe thead th {\n",
       "        text-align: right;\n",
       "    }\n",
       "</style>\n",
       "<table border=\"1\" class=\"dataframe\">\n",
       "  <thead>\n",
       "    <tr style=\"text-align: right;\">\n",
       "      <th></th>\n",
       "      <th>Method</th>\n",
       "      <th>User-Agent</th>\n",
       "      <th>Pragma</th>\n",
       "      <th>Cache-Control</th>\n",
       "      <th>Accept</th>\n",
       "      <th>Accept-encoding</th>\n",
       "      <th>language</th>\n",
       "      <th>host</th>\n",
       "      <th>cookie</th>\n",
       "      <th>content-type</th>\n",
       "      <th>connection</th>\n",
       "      <th>lenght</th>\n",
       "      <th>content</th>\n",
       "      <th>URL</th>\n",
       "    </tr>\n",
       "  </thead>\n",
       "  <tbody>\n",
       "    <tr>\n",
       "      <th>0</th>\n",
       "      <td>GET</td>\n",
       "      <td>Mozilla/5.0 (compatible; Konqueror/3.5; Linux)...</td>\n",
       "      <td>no-cache</td>\n",
       "      <td>no-cache</td>\n",
       "      <td>text/xml,application/xml,application/xhtml+xml...</td>\n",
       "      <td>x-gzip, x-deflate, gzip, deflate</td>\n",
       "      <td>en</td>\n",
       "      <td>localhost:8080</td>\n",
       "      <td>JSESSIONID=1F767F17239C9B670A39E9B10C3825F4</td>\n",
       "      <td>NaN</td>\n",
       "      <td>close</td>\n",
       "      <td>NaN</td>\n",
       "      <td>NaN</td>\n",
       "      <td>http://localhost:8080/tienda1/index.jsp HTTP/1.1</td>\n",
       "    </tr>\n",
       "    <tr>\n",
       "      <th>1</th>\n",
       "      <td>GET</td>\n",
       "      <td>Mozilla/5.0 (compatible; Konqueror/3.5; Linux)...</td>\n",
       "      <td>no-cache</td>\n",
       "      <td>no-cache</td>\n",
       "      <td>text/xml,application/xml,application/xhtml+xml...</td>\n",
       "      <td>x-gzip, x-deflate, gzip, deflate</td>\n",
       "      <td>en</td>\n",
       "      <td>localhost:8080</td>\n",
       "      <td>JSESSIONID=81761ACA043B0E6014CA42A4BCD06AB5</td>\n",
       "      <td>NaN</td>\n",
       "      <td>close</td>\n",
       "      <td>NaN</td>\n",
       "      <td>NaN</td>\n",
       "      <td>http://localhost:8080/tienda1/publico/anadir.j...</td>\n",
       "    </tr>\n",
       "    <tr>\n",
       "      <th>2</th>\n",
       "      <td>POST</td>\n",
       "      <td>Mozilla/5.0 (compatible; Konqueror/3.5; Linux)...</td>\n",
       "      <td>no-cache</td>\n",
       "      <td>no-cache</td>\n",
       "      <td>text/xml,application/xml,application/xhtml+xml...</td>\n",
       "      <td>x-gzip, x-deflate, gzip, deflate</td>\n",
       "      <td>en</td>\n",
       "      <td>localhost:8080</td>\n",
       "      <td>JSESSIONID=933185092E0B668B90676E0A2B0767AF</td>\n",
       "      <td>application/x-www-form-urlencoded</td>\n",
       "      <td>Connection: close</td>\n",
       "      <td>Content-Length: 68</td>\n",
       "      <td>id=3&amp;nombre=Vino+Rioja&amp;precio=100&amp;cantidad=55&amp;...</td>\n",
       "      <td>http://localhost:8080/tienda1/publico/anadir.j...</td>\n",
       "    </tr>\n",
       "    <tr>\n",
       "      <th>3</th>\n",
       "      <td>GET</td>\n",
       "      <td>Mozilla/5.0 (compatible; Konqueror/3.5; Linux)...</td>\n",
       "      <td>no-cache</td>\n",
       "      <td>no-cache</td>\n",
       "      <td>text/xml,application/xml,application/xhtml+xml...</td>\n",
       "      <td>x-gzip, x-deflate, gzip, deflate</td>\n",
       "      <td>en</td>\n",
       "      <td>localhost:8080</td>\n",
       "      <td>JSESSIONID=8FA18BA82C5336D03D3A8AFA3E68CBB0</td>\n",
       "      <td>NaN</td>\n",
       "      <td>close</td>\n",
       "      <td>NaN</td>\n",
       "      <td>NaN</td>\n",
       "      <td>http://localhost:8080/tienda1/publico/autentic...</td>\n",
       "    </tr>\n",
       "    <tr>\n",
       "      <th>4</th>\n",
       "      <td>POST</td>\n",
       "      <td>Mozilla/5.0 (compatible; Konqueror/3.5; Linux)...</td>\n",
       "      <td>no-cache</td>\n",
       "      <td>no-cache</td>\n",
       "      <td>text/xml,application/xml,application/xhtml+xml...</td>\n",
       "      <td>x-gzip, x-deflate, gzip, deflate</td>\n",
       "      <td>en</td>\n",
       "      <td>localhost:8080</td>\n",
       "      <td>JSESSIONID=7104E6C68A6BCF1423DAE990CE49FEE2</td>\n",
       "      <td>application/x-www-form-urlencoded</td>\n",
       "      <td>Connection: close</td>\n",
       "      <td>Content-Length: 63</td>\n",
       "      <td>modo=entrar&amp;login=choong&amp;pwd=d1se3ci%F3n&amp;remem...</td>\n",
       "      <td>http://localhost:8080/tienda1/publico/autentic...</td>\n",
       "    </tr>\n",
       "  </tbody>\n",
       "</table>\n",
       "</div>"
      ],
      "text/plain": [
       "  Method                                         User-Agent    Pragma  \\\n",
       "0    GET  Mozilla/5.0 (compatible; Konqueror/3.5; Linux)...  no-cache   \n",
       "1    GET  Mozilla/5.0 (compatible; Konqueror/3.5; Linux)...  no-cache   \n",
       "2   POST  Mozilla/5.0 (compatible; Konqueror/3.5; Linux)...  no-cache   \n",
       "3    GET  Mozilla/5.0 (compatible; Konqueror/3.5; Linux)...  no-cache   \n",
       "4   POST  Mozilla/5.0 (compatible; Konqueror/3.5; Linux)...  no-cache   \n",
       "\n",
       "  Cache-Control                                             Accept  \\\n",
       "0      no-cache  text/xml,application/xml,application/xhtml+xml...   \n",
       "1      no-cache  text/xml,application/xml,application/xhtml+xml...   \n",
       "2      no-cache  text/xml,application/xml,application/xhtml+xml...   \n",
       "3      no-cache  text/xml,application/xml,application/xhtml+xml...   \n",
       "4      no-cache  text/xml,application/xml,application/xhtml+xml...   \n",
       "\n",
       "                    Accept-encoding language            host  \\\n",
       "0  x-gzip, x-deflate, gzip, deflate       en  localhost:8080   \n",
       "1  x-gzip, x-deflate, gzip, deflate       en  localhost:8080   \n",
       "2  x-gzip, x-deflate, gzip, deflate       en  localhost:8080   \n",
       "3  x-gzip, x-deflate, gzip, deflate       en  localhost:8080   \n",
       "4  x-gzip, x-deflate, gzip, deflate       en  localhost:8080   \n",
       "\n",
       "                                        cookie  \\\n",
       "0  JSESSIONID=1F767F17239C9B670A39E9B10C3825F4   \n",
       "1  JSESSIONID=81761ACA043B0E6014CA42A4BCD06AB5   \n",
       "2  JSESSIONID=933185092E0B668B90676E0A2B0767AF   \n",
       "3  JSESSIONID=8FA18BA82C5336D03D3A8AFA3E68CBB0   \n",
       "4  JSESSIONID=7104E6C68A6BCF1423DAE990CE49FEE2   \n",
       "\n",
       "                        content-type         connection              lenght  \\\n",
       "0                                NaN              close                 NaN   \n",
       "1                                NaN              close                 NaN   \n",
       "2  application/x-www-form-urlencoded  Connection: close  Content-Length: 68   \n",
       "3                                NaN              close                 NaN   \n",
       "4  application/x-www-form-urlencoded  Connection: close  Content-Length: 63   \n",
       "\n",
       "                                             content  \\\n",
       "0                                                NaN   \n",
       "1                                                NaN   \n",
       "2  id=3&nombre=Vino+Rioja&precio=100&cantidad=55&...   \n",
       "3                                                NaN   \n",
       "4  modo=entrar&login=choong&pwd=d1se3ci%F3n&remem...   \n",
       "\n",
       "                                                 URL  \n",
       "0   http://localhost:8080/tienda1/index.jsp HTTP/1.1  \n",
       "1  http://localhost:8080/tienda1/publico/anadir.j...  \n",
       "2  http://localhost:8080/tienda1/publico/anadir.j...  \n",
       "3  http://localhost:8080/tienda1/publico/autentic...  \n",
       "4  http://localhost:8080/tienda1/publico/autentic...  "
      ]
     },
     "execution_count": 8,
     "metadata": {},
     "output_type": "execute_result"
    }
   ],
   "source": [
    "print(X.columns)\n",
    "X.head()"
   ]
  },
  {
   "cell_type": "code",
   "execution_count": 9,
   "metadata": {
    "ExecuteTime": {
     "end_time": "2021-05-19T15:10:05.198229Z",
     "start_time": "2021-05-19T15:10:05.194275Z"
    }
   },
   "outputs": [
    {
     "data": {
      "text/plain": [
       "'GET'"
      ]
     },
     "execution_count": 9,
     "metadata": {},
     "output_type": "execute_result"
    }
   ],
   "source": [
    "X.iloc[0]['Method']"
   ]
  },
  {
   "cell_type": "code",
   "execution_count": 10,
   "metadata": {
    "ExecuteTime": {
     "end_time": "2021-05-19T15:12:01.648838Z",
     "start_time": "2021-05-19T15:10:05.200021Z"
    }
   },
   "outputs": [],
   "source": [
    "X_string = []\n",
    "cols = X.columns\n",
    "for i in range(len(X)):\n",
    "    temp = ''\n",
    "    for col in cols:\n",
    "        temp += str(X.iloc[i][col])\n",
    "    ans = ''\n",
    "    for t in temp:\n",
    "        if t.isalpha():\n",
    "            ans += t.lower()\n",
    "        else:\n",
    "            ans += t\n",
    "    X_string.append(ans)"
   ]
  },
  {
   "cell_type": "code",
   "execution_count": 12,
   "metadata": {
    "ExecuteTime": {
     "end_time": "2021-05-19T15:12:01.655795Z",
     "start_time": "2021-05-19T15:12:01.651170Z"
    }
   },
   "outputs": [
    {
     "name": "stdout",
     "output_type": "stream",
     "text": [
      "Example: \n",
      "getmozilla/5.0 (compatible; konqueror/3.5; linux) khtml/3.5.8 (like gecko)no-cacheno-cachetext/xml,application/xml,application/xhtml+xml,text/html;q=0.9,text/plain;q=0.8,image/png,*/*;q=0.5x-gzip, x-deflate, gzip, deflateenlocalhost:8080jsessionid=1f767f17239c9b670a39e9b10c3825f4nanclosenannanhttp://localhost:8080/tienda1/index.jsp http/1.1\n"
     ]
    }
   ],
   "source": [
    "print('Example: ')\n",
    "print(X_string[0])"
   ]
  },
  {
   "cell_type": "markdown",
   "metadata": {},
   "source": [
    "## Data Preprocessing"
   ]
  },
  {
   "cell_type": "markdown",
   "metadata": {},
   "source": [
    "### Change alphabet into index\n",
    "- get index for all alphabets and sign into index\n",
    "- designate each element into one index num"
   ]
  },
  {
   "cell_type": "code",
   "execution_count": 17,
   "metadata": {
    "ExecuteTime": {
     "end_time": "2021-05-19T15:12:02.209273Z",
     "start_time": "2021-05-19T15:12:01.658197Z"
    }
   },
   "outputs": [
    {
     "name": "stdout",
     "output_type": "stream",
     "text": [
      "{'a': 1, 'b': 2, 'c': 3, 'd': 4, 'e': 5, 'f': 6, 'g': 7, 'h': 8, 'i': 9, 'j': 10, 'k': 11, 'l': 12, 'm': 13, 'n': 14, 'o': 15, 'p': 16, 'q': 17, 'r': 18, 's': 19, 't': 20, 'u': 21, 'v': 22, 'w': 23, 'x': 24, 'y': 25, 'z': 26, '0': 27, '1': 28, '2': 29, '3': 30, '4': 31, '5': 32, '6': 33, '7': 34, '8': 35, '9': 36, '-': 60, ',': 38, ';': 39, '.': 40, '!': 41, '?': 42, ':': 43, \"'\": 44, '\"': 45, '/': 46, '\\\\': 47, '|': 48, '_': 49, '@': 50, '#': 51, '$': 52, '%': 53, '^': 54, '&': 55, '*': 56, '~': 57, '`': 58, '+': 59, '=': 61, '<': 62, '>': 63, '(': 64, ')': 65, '[': 66, ']': 67, '{': 68, '}': 69}\n"
     ]
    }
   ],
   "source": [
    "char_list = \"abcdefghijklmnopqrstuvwxyz0123456789-,;.!?:'\\\"/\\\\|_@#$%^&*~`+-=<>()[]{}\"\n",
    "\n",
    "char_dict = {}\n",
    "for idx, cha in enumerate(char_list):\n",
    "    char_dict[cha] = idx + 1\n",
    "print(char_dict)"
   ]
  },
  {
   "cell_type": "code",
   "execution_count": 22,
   "metadata": {
    "ExecuteTime": {
     "end_time": "2021-05-19T15:12:02.645607Z",
     "start_time": "2021-05-19T15:12:02.213326Z"
    }
   },
   "outputs": [],
   "source": [
    "def str_to_index(s):\n",
    "    str2idx = np.zeros(len(s))\n",
    "    s = s.lower()\n",
    "    for i in range(len(s)):\n",
    "        c = s[i]\n",
    "        if c in char_dict:\n",
    "            str2idx[i] = char_dict[c]\n",
    "    return torch.Tensor(str2idx)"
   ]
  },
  {
   "cell_type": "code",
   "execution_count": 23,
   "metadata": {
    "ExecuteTime": {
     "end_time": "2021-05-19T15:12:02.787894Z",
     "start_time": "2021-05-19T15:12:02.655993Z"
    }
   },
   "outputs": [
    {
     "name": "stdout",
     "output_type": "stream",
     "text": [
      "String to index example: \n",
      "tensor([ 7.,  5., 20., 13., 15., 26.,  9., 12., 12.,  1., 46., 32., 40., 27.,\n",
      "         0., 64.,  3., 15., 13., 16.,  1., 20.,  9.,  2., 12.,  5., 39.,  0.,\n",
      "        11., 15., 14., 17., 21.,  5., 18., 15., 18., 46., 30., 40., 32., 39.,\n",
      "         0., 12.,  9., 14., 21., 24., 65.,  0., 11.,  8., 20., 13., 12., 46.,\n",
      "        30., 40., 32., 40., 35.,  0., 64., 12.,  9., 11.,  5.,  0.,  7.,  5.,\n",
      "         3., 11., 15., 65., 14., 15., 60.,  3.,  1.,  3.,  8.,  5., 14., 15.,\n",
      "        60.,  3.,  1.,  3.,  8.,  5., 20.,  5., 24., 20., 46., 24., 13., 12.,\n",
      "        38.,  1., 16., 16., 12.,  9.,  3.,  1., 20.,  9., 15., 14., 46., 24.,\n",
      "        13., 12., 38.,  1., 16., 16., 12.,  9.,  3.,  1., 20.,  9., 15., 14.,\n",
      "        46., 24.,  8., 20., 13., 12., 59., 24., 13., 12., 38., 20.,  5., 24.,\n",
      "        20., 46.,  8., 20., 13., 12., 39., 17., 61., 27., 40., 36., 38., 20.,\n",
      "         5., 24., 20., 46., 16., 12.,  1.,  9., 14., 39., 17., 61., 27., 40.,\n",
      "        35., 38.,  9., 13.,  1.,  7.,  5., 46., 16., 14.,  7., 38., 56., 46.,\n",
      "        56., 39., 17., 61., 27., 40., 32., 24., 60.,  7., 26.,  9., 16., 38.,\n",
      "         0., 24., 60.,  4.,  5.,  6., 12.,  1., 20.,  5., 38.,  0.,  7., 26.,\n",
      "         9., 16., 38.,  0.,  4.,  5.,  6., 12.,  1., 20.,  5.,  5., 14., 12.,\n",
      "        15.,  3.,  1., 12.,  8., 15., 19., 20., 43., 35., 27., 35., 27., 10.,\n",
      "        19.,  5., 19., 19.,  9., 15., 14.,  9.,  4., 61., 28.,  6., 34., 33.,\n",
      "        34.,  6., 28., 34., 29., 30., 36.,  3., 36.,  2., 33., 34., 27.,  1.,\n",
      "        30., 36.,  5., 36.,  2., 28., 27.,  3., 30., 35., 29., 32.,  6., 31.,\n",
      "        14.,  1., 14.,  3., 12., 15., 19.,  5., 14.,  1., 14., 14.,  1., 14.,\n",
      "         8., 20., 20., 16., 43., 46., 46., 12., 15.,  3.,  1., 12.,  8., 15.,\n",
      "        19., 20., 43., 35., 27., 35., 27., 46., 20.,  9.,  5., 14.,  4.,  1.,\n",
      "        28., 46.,  9., 14.,  4.,  5., 24., 40., 10., 19., 16.,  0.,  8., 20.,\n",
      "        20., 16., 46., 28., 40., 28.])\n"
     ]
    }
   ],
   "source": [
    "print('String to index example: ')\n",
    "print(str_to_index(X_string[0]))"
   ]
  },
  {
   "cell_type": "code",
   "execution_count": 12,
   "metadata": {
    "ExecuteTime": {
     "end_time": "2021-05-19T15:12:10.006038Z",
     "start_time": "2021-05-19T15:12:02.790401Z"
    }
   },
   "outputs": [],
   "source": [
    "X_idx = []\n",
    "for x in X_string:\n",
    "    X_idx.append(str_to_index(x))"
   ]
  },
  {
   "cell_type": "code",
   "execution_count": 13,
   "metadata": {
    "ExecuteTime": {
     "end_time": "2021-05-19T15:12:10.022101Z",
     "start_time": "2021-05-19T15:12:10.008050Z"
    }
   },
   "outputs": [
    {
     "data": {
      "text/plain": [
       "tensor([ 7.,  5., 20., 13., 15., 26.,  9., 12., 12.,  1., 46., 32., 40., 27.,\n",
       "         0., 64.,  3., 15., 13., 16.,  1., 20.,  9.,  2., 12.,  5., 39.,  0.,\n",
       "        11., 15., 14., 17., 21.,  5., 18., 15., 18., 46., 30., 40., 32., 39.,\n",
       "         0., 12.,  9., 14., 21., 24., 65.,  0., 11.,  8., 20., 13., 12., 46.,\n",
       "        30., 40., 32., 40., 35.,  0., 64., 12.,  9., 11.,  5.,  0.,  7.,  5.,\n",
       "         3., 11., 15., 65., 14., 15., 60.,  3.,  1.,  3.,  8.,  5., 14., 15.,\n",
       "        60.,  3.,  1.,  3.,  8.,  5., 20.,  5., 24., 20., 46., 24., 13., 12.,\n",
       "        38.,  1., 16., 16., 12.,  9.,  3.,  1., 20.,  9., 15., 14., 46., 24.,\n",
       "        13., 12., 38.,  1., 16., 16., 12.,  9.,  3.,  1., 20.,  9., 15., 14.,\n",
       "        46., 24.,  8., 20., 13., 12., 59., 24., 13., 12., 38., 20.,  5., 24.,\n",
       "        20., 46.,  8., 20., 13., 12., 39., 17., 61., 27., 40., 36., 38., 20.,\n",
       "         5., 24., 20., 46., 16., 12.,  1.,  9., 14., 39., 17., 61., 27., 40.,\n",
       "        35., 38.,  9., 13.,  1.,  7.,  5., 46., 16., 14.,  7., 38., 56., 46.,\n",
       "        56., 39., 17., 61., 27., 40., 32., 24., 60.,  7., 26.,  9., 16., 38.,\n",
       "         0., 24., 60.,  4.,  5.,  6., 12.,  1., 20.,  5., 38.,  0.,  7., 26.,\n",
       "         9., 16., 38.,  0.,  4.,  5.,  6., 12.,  1., 20.,  5.,  5., 14., 12.,\n",
       "        15.,  3.,  1., 12.,  8., 15., 19., 20., 43., 35., 27., 35., 27., 10.,\n",
       "        19.,  5., 19., 19.,  9., 15., 14.,  9.,  4., 61., 28.,  6., 34., 33.,\n",
       "        34.,  6., 28., 34., 29., 30., 36.,  3., 36.,  2., 33., 34., 27.,  1.,\n",
       "        30., 36.,  5., 36.,  2., 28., 27.,  3., 30., 35., 29., 32.,  6., 31.,\n",
       "        14.,  1., 14.,  3., 12., 15., 19.,  5., 14.,  1., 14., 14.,  1., 14.,\n",
       "         8., 20., 20., 16., 43., 46., 46., 12., 15.,  3.,  1., 12.,  8., 15.,\n",
       "        19., 20., 43., 35., 27., 35., 27., 46., 20.,  9.,  5., 14.,  4.,  1.,\n",
       "        28., 46.,  9., 14.,  4.,  5., 24., 40., 10., 19., 16.,  0.,  8., 20.,\n",
       "        20., 16., 46., 28., 40., 28.])"
      ]
     },
     "execution_count": 13,
     "metadata": {},
     "output_type": "execute_result"
    }
   ],
   "source": [
    "X_idx[0]"
   ]
  },
  {
   "cell_type": "markdown",
   "metadata": {},
   "source": [
    "- padding `X_idx` into max length"
   ]
  },
  {
   "cell_type": "code",
   "execution_count": 14,
   "metadata": {
    "ExecuteTime": {
     "end_time": "2021-05-19T15:12:10.794045Z",
     "start_time": "2021-05-19T15:12:10.023645Z"
    }
   },
   "outputs": [],
   "source": [
    "X_idx_padding = pad_sequence(X_idx, batch_first=True)"
   ]
  },
  {
   "cell_type": "code",
   "execution_count": 15,
   "metadata": {
    "ExecuteTime": {
     "end_time": "2021-05-19T15:12:10.800109Z",
     "start_time": "2021-05-19T15:12:10.795715Z"
    }
   },
   "outputs": [
    {
     "data": {
      "text/plain": [
       "tensor([ 7.,  5., 20.,  ...,  0.,  0.,  0.])"
      ]
     },
     "execution_count": 15,
     "metadata": {},
     "output_type": "execute_result"
    }
   ],
   "source": [
    "X_idx_padding[0]"
   ]
  },
  {
   "cell_type": "markdown",
   "metadata": {},
   "source": [
    "## Split Data into Train, Valid, Test Set"
   ]
  },
  {
   "cell_type": "code",
   "execution_count": 16,
   "metadata": {
    "ExecuteTime": {
     "end_time": "2021-05-19T15:12:11.103549Z",
     "start_time": "2021-05-19T15:12:10.801532Z"
    }
   },
   "outputs": [],
   "source": [
    "X_train, X_test, y_train, y_test = train_test_split(X_idx_padding, torch.Tensor(y), test_size=0.2, shuffle=True, random_state=42)\n",
    "X_train, X_valid, y_train, y_valid = train_test_split(X_train, y_train, test_size=0.1, shuffle=True, random_state=42)"
   ]
  },
  {
   "cell_type": "code",
   "execution_count": 17,
   "metadata": {
    "ExecuteTime": {
     "end_time": "2021-05-19T15:12:11.109193Z",
     "start_time": "2021-05-19T15:12:11.105247Z"
    }
   },
   "outputs": [
    {
     "data": {
      "text/plain": [
       "tensor([0., 0., 1., 0., 1.])"
      ]
     },
     "execution_count": 17,
     "metadata": {},
     "output_type": "execute_result"
    }
   ],
   "source": [
    "y_train[:5]"
   ]
  },
  {
   "cell_type": "code",
   "execution_count": 18,
   "metadata": {
    "ExecuteTime": {
     "end_time": "2021-05-19T15:12:11.115167Z",
     "start_time": "2021-05-19T15:12:11.110710Z"
    }
   },
   "outputs": [],
   "source": [
    "batch_size = 128\n",
    "\n",
    "train_dataset = TensorDataset(X_train, y_train)\n",
    "train_loader = DataLoader(train_dataset, batch_size=batch_size, shuffle=True, num_workers=6)\n",
    "\n",
    "valid_dataset = TensorDataset(X_valid, y_valid)\n",
    "valid_loader = DataLoader(valid_dataset, batch_size=batch_size, shuffle=False, num_workers=6)\n",
    "\n",
    "test_dataset = TensorDataset(X_test, y_test)\n",
    "test_loader = DataLoader(test_dataset, batch_size=batch_size, shuffle=False, num_workers=6)"
   ]
  },
  {
   "cell_type": "markdown",
   "metadata": {},
   "source": [
    "# Model"
   ]
  },
  {
   "cell_type": "code",
   "execution_count": 29,
   "metadata": {
    "ExecuteTime": {
     "end_time": "2021-05-19T15:12:11.128358Z",
     "start_time": "2021-05-19T15:12:11.116604Z"
    },
    "code_folding": []
   },
   "outputs": [],
   "source": [
    "class CNN(nn.Module):\n",
    "    def __init__(self, vocab_size, embed_dim, num_class):\n",
    "        super(CNN, self).__init__()\n",
    "        self.embedding = nn.Embedding(vocab_size, embed_dim, padding_idx=0)\n",
    "        self.cnn1 = nn.Sequential(nn.Conv1d(embed_dim, 64, 7),\n",
    "                                  nn.ReLU(),\n",
    "                                  nn.MaxPool1d(3))\n",
    "        self.cnn2 = nn.Sequential(nn.Conv1d(64, 64, 7),\n",
    "                                  nn.ReLU(),\n",
    "                                  nn.MaxPool1d(3))\n",
    "        self.cnn3 = nn.Sequential(nn.Conv1d(64, 64, 7),\n",
    "                                  nn.ReLU(),\n",
    "                                  nn.MaxPool1d(3))\n",
    "        self.cnn4 = nn.Sequential(nn.Conv1d(64, 64, 7),\n",
    "                                  nn.ReLU(),\n",
    "                                  nn.MaxPool1d(3))\n",
    "#         self.cnn5 = nn.Sequential(nn.Conv1d(256, 256, 7),\n",
    "#                                   nn.BatchNorm1d(256),\n",
    "#                                   nn.ReLU())\n",
    "#         self.cnn6 = nn.Sequential(nn.Conv1d(256, 256, 7),\n",
    "#                                   nn.BatchNorm1d(256),\n",
    "#                                   nn.ReLU())\n",
    "        \n",
    "        self.relu = nn.ReLU()\n",
    "        \n",
    "        \n",
    "        feat_size = 768\n",
    "        self.fc = nn.Sequential(nn.Linear(feat_size, 128),\n",
    "                                nn.ReLU(),\n",
    "                                nn.Dropout(p=0.5),\n",
    "                                nn.Linear(128, num_class)\n",
    "#                                 nn.ReLU(),\n",
    "#                                 nn.Dropout(p=0.5),\n",
    "#                                 nn.Linear(128, num_class)\n",
    "                               )\n",
    "                                \n",
    "    def forward(self, inp):\n",
    "        x = self.embedding(inp)\n",
    "        x = x.permute(0, 2, 1)\n",
    "\n",
    "        for idx, cnn in enumerate([self.cnn1, self.cnn2, self.cnn3, self.cnn4]): #, self.cnn5, self.cnn6]):\n",
    "            x = cnn(x)\n",
    "#         x = self.maxpool1d(x)\n",
    "        \n",
    "        x = x.reshape(x.size(0), -1)\n",
    "#         print(x.shape)\n",
    "        x = self.fc(x)\n",
    "        return x\n",
    "    "
   ]
  },
  {
   "cell_type": "markdown",
   "metadata": {},
   "source": [
    "# Train & Test"
   ]
  },
  {
   "cell_type": "code",
   "execution_count": 30,
   "metadata": {
    "ExecuteTime": {
     "end_time": "2021-05-19T15:38:36.727472Z",
     "start_time": "2021-05-19T15:12:11.146034Z"
    },
    "code_folding": [
     10
    ]
   },
   "outputs": [
    {
     "name": "stdout",
     "output_type": "stream",
     "text": [
      "Epoch: 1, Accuracy: 0.9040, Loss: 0.1841\n",
      "Validation --- Accuracy: 0.9625, Loss: 0.0886\n",
      "------best_acc is updated.--------\n",
      "Epoch: 2, Accuracy: 0.9798, Loss: 0.0540\n",
      "Validation --- Accuracy: 0.9828, Loss: 0.0506\n",
      "------best_acc is updated.--------\n",
      "Epoch: 3, Accuracy: 0.9869, Loss: 0.0369\n",
      "Validation --- Accuracy: 0.9685, Loss: 0.0746\n",
      "Epoch: 4, Accuracy: 0.9897, Loss: 0.0308\n",
      "Validation --- Accuracy: 0.9849, Loss: 0.0380\n",
      "------best_acc is updated.--------\n",
      "Epoch: 5, Accuracy: 0.9921, Loss: 0.0249\n",
      "Validation --- Accuracy: 0.9867, Loss: 0.0381\n",
      "------best_acc is updated.--------\n",
      "Epoch: 6, Accuracy: 0.9930, Loss: 0.0212\n",
      "Validation --- Accuracy: 0.9881, Loss: 0.0402\n",
      "------best_acc is updated.--------\n",
      "Epoch: 7, Accuracy: 0.9950, Loss: 0.0155\n",
      "Validation --- Accuracy: 0.9887, Loss: 0.0417\n",
      "------best_acc is updated.--------\n",
      "Epoch: 8, Accuracy: 0.9955, Loss: 0.0137\n",
      "Validation --- Accuracy: 0.9910, Loss: 0.0350\n",
      "------best_acc is updated.--------\n",
      "Epoch: 9, Accuracy: 0.9966, Loss: 0.0101\n",
      "Validation --- Accuracy: 0.9916, Loss: 0.0301\n",
      "------best_acc is updated.--------\n",
      "Epoch: 10, Accuracy: 0.9973, Loss: 0.0089\n",
      "Validation --- Accuracy: 0.9894, Loss: 0.0360\n",
      "================================================================\n",
      "Test --- Accuracy: 0.9896, Loss: 0.0431\n",
      "================================================================\n"
     ]
    }
   ],
   "source": [
    "import copy\n",
    "\n",
    "criterion = nn.CrossEntropyLoss().to(device)\n",
    "test_acces = []\n",
    "for _ in range(1):\n",
    "    model = CNN(len(alpha_dict), 64, 2).to(device)\n",
    "    optimizer = torch.optim.Adam(model.parameters(), lr = 0.001)\n",
    "    epoch = 10\n",
    "    \n",
    "    best_acc = 0\n",
    "    best_weight = copy.deepcopy(model.state_dict())\n",
    "    val_acces = []\n",
    "    for i in range(epoch):\n",
    "        total_acc, total_loss, total_cnt = 0., 0., 0\n",
    "\n",
    "        for X, y in train_loader:\n",
    "            model.train()\n",
    "            X, y = X.long().to(device), y.long().to(device)\n",
    "\n",
    "\n",
    "            output = model(X)\n",
    "            loss = criterion(output, y)\n",
    "\n",
    "            optimizer.zero_grad()\n",
    "            loss.backward()\n",
    "            optimizer.step()\n",
    "\n",
    "            total_acc += (output.cpu().argmax(1) == y.cpu()).sum().item()\n",
    "            total_loss += loss.item()\n",
    "            total_cnt += y.size(0)\n",
    "\n",
    "        print('Epoch: {}, Accuracy: {:.4f}, Loss: {:.4f}'.format(\n",
    "        i+1, total_acc/total_cnt, total_loss/len(train_loader))\n",
    "        )\n",
    "\n",
    "        with torch.no_grad():\n",
    "            model.eval()\n",
    "\n",
    "            val_acc, val_loss, val_cnt = 0., 0., 0\n",
    "            for X, y in valid_loader:\n",
    "                X, y = X.long().to(device), y.long().to(device)\n",
    "\n",
    "                predicted = model(X)\n",
    "                loss = criterion(predicted, y)\n",
    "\n",
    "                val_acc += (predicted.cpu().argmax(1) == y.cpu()).sum().item()\n",
    "                val_loss += loss.item()\n",
    "                val_cnt += y.size(0)\n",
    "\n",
    "        torch.cuda.empty_cache()\n",
    "\n",
    "        val_acc = val_acc/val_cnt\n",
    "        val_acces.append(val_acc)\n",
    "        print('Validation --- Accuracy: {:.4f}, Loss: {:.4f}'.format(\n",
    "        val_acc, val_loss/len(valid_loader))\n",
    "        )\n",
    "        if val_acc > best_acc:\n",
    "            best_acc = val_acc\n",
    "            best_weight = copy.deepcopy(model.state_dict())\n",
    "            print(\"------best_acc is updated.--------\")\n",
    "\n",
    "    model.load_state_dict(best_weight)\n",
    "\n",
    "    model.eval()\n",
    "\n",
    "    test_acc, test_loss, test_cnt = 0., 0., 0\n",
    "    for X, y in test_loader:\n",
    "        X, y = X.long().to(device), y.long().to(device)\n",
    "        predicted = model(X)\n",
    "        loss = criterion(predicted, y)\n",
    "\n",
    "        test_acc += (predicted.cpu().argmax(1) == y.cpu()).sum().item()\n",
    "        test_loss += loss.item()\n",
    "        test_cnt += y.size(0)\n",
    "\n",
    "        torch.cuda.empty_cache()\n",
    "    \n",
    "    print('================================================================')\n",
    "    print('Test --- Accuracy: {:.4f}, Loss: {:.4f}'.format(\n",
    "    test_acc/test_cnt, test_loss/len(test_loader))\n",
    "    )\n",
    "    print('================================================================')\n",
    "    test_acces.append(test_acc/test_cnt)"
   ]
  },
  {
   "cell_type": "code",
   "execution_count": null,
   "metadata": {},
   "outputs": [],
   "source": []
  }
 ],
 "metadata": {
  "kernelspec": {
   "display_name": "Python 3",
   "language": "python",
   "name": "python3"
  },
  "language_info": {
   "codemirror_mode": {
    "name": "ipython",
    "version": 3
   },
   "file_extension": ".py",
   "mimetype": "text/x-python",
   "name": "python",
   "nbconvert_exporter": "python",
   "pygments_lexer": "ipython3",
   "version": "3.7.6"
  },
  "latex_envs": {
   "LaTeX_envs_menu_present": true,
   "autoclose": false,
   "autocomplete": true,
   "bibliofile": "biblio.bib",
   "cite_by": "apalike",
   "current_citInitial": 1,
   "eqLabelWithNumbers": true,
   "eqNumInitial": 1,
   "hotkeys": {
    "equation": "Ctrl-E",
    "itemize": "Ctrl-I"
   },
   "labels_anchors": false,
   "latex_user_defs": false,
   "report_style_numbering": false,
   "user_envs_cfg": false
  }
 },
 "nbformat": 4,
 "nbformat_minor": 5
}
